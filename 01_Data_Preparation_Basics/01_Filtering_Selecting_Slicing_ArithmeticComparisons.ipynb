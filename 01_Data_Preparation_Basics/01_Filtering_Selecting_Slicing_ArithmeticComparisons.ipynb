{
 "cells": [
  {
   "cell_type": "markdown",
   "metadata": {},
   "source": [
    "## Chapter - 01 Data Preparation Basics"
   ]
  },
  {
   "cell_type": "markdown",
   "metadata": {},
   "source": [
    "### Segment 1 - Filtering and selecting data"
   ]
  },
  {
   "cell_type": "code",
   "execution_count": 1,
   "metadata": {},
   "outputs": [],
   "source": [
    "import numpy as np\n",
    "import pandas as pd\n",
    "\n",
    "from pandas import DataFrame, Series"
   ]
  },
  {
   "cell_type": "markdown",
   "metadata": {},
   "source": [
    "### Selecting and retrieving data\n",
    "\n",
    "We can write an index value in two forms:\n",
    "\n",
    "* Label index or\n",
    "* Integer index"
   ]
  },
  {
   "cell_type": "code",
   "execution_count": 2,
   "metadata": {},
   "outputs": [
    {
     "data": {
      "text/plain": [
       "Row 1    0\n",
       "Row 2    1\n",
       "Row 3    2\n",
       "Row 4    3\n",
       "Row 5    4\n",
       "Row 6    5\n",
       "Row 7    6\n",
       "Row 8    7\n",
       "dtype: int32"
      ]
     },
     "execution_count": 2,
     "metadata": {},
     "output_type": "execute_result"
    }
   ],
   "source": [
    "series_obj = Series(np.arange(8), index=['Row 1', 'Row 2', 'Row 3', 'Row 4', 'Row 5', 'Row 6', 'Row 7', 'Row 8'])\n",
    "series_obj"
   ]
  },
  {
   "cell_type": "code",
   "execution_count": 3,
   "metadata": {},
   "outputs": [
    {
     "data": {
      "text/plain": [
       "6"
      ]
     },
     "execution_count": 3,
     "metadata": {},
     "output_type": "execute_result"
    }
   ],
   "source": [
    "series_obj['Row 7']"
   ]
  },
  {
   "cell_type": "code",
   "execution_count": 4,
   "metadata": {},
   "outputs": [
    {
     "data": {
      "text/plain": [
       "Row 1    0\n",
       "Row 8    7\n",
       "dtype: int32"
      ]
     },
     "execution_count": 4,
     "metadata": {},
     "output_type": "execute_result"
    }
   ],
   "source": [
    "series_obj[[0, 7]]"
   ]
  },
  {
   "cell_type": "code",
   "execution_count": null,
   "metadata": {},
   "outputs": [],
   "source": [
    "np.random.seed(25)"
   ]
  },
  {
   "cell_type": "code",
   "execution_count": 6,
   "metadata": {},
   "outputs": [
    {
     "data": {
      "text/html": [
       "<div>\n",
       "<style scoped>\n",
       "    .dataframe tbody tr th:only-of-type {\n",
       "        vertical-align: middle;\n",
       "    }\n",
       "\n",
       "    .dataframe tbody tr th {\n",
       "        vertical-align: top;\n",
       "    }\n",
       "\n",
       "    .dataframe thead th {\n",
       "        text-align: right;\n",
       "    }\n",
       "</style>\n",
       "<table border=\"1\" class=\"dataframe\">\n",
       "  <thead>\n",
       "    <tr style=\"text-align: right;\">\n",
       "      <th></th>\n",
       "      <th>Column 1</th>\n",
       "      <th>Column 2</th>\n",
       "      <th>Column 3</th>\n",
       "      <th>Column 4</th>\n",
       "      <th>Column 5</th>\n",
       "      <th>Column 6</th>\n",
       "    </tr>\n",
       "  </thead>\n",
       "  <tbody>\n",
       "    <tr>\n",
       "      <td>Row 1</td>\n",
       "      <td>0.046422</td>\n",
       "      <td>0.847703</td>\n",
       "      <td>0.059907</td>\n",
       "      <td>0.385508</td>\n",
       "      <td>0.719010</td>\n",
       "      <td>0.737680</td>\n",
       "    </tr>\n",
       "    <tr>\n",
       "      <td>Row 2</td>\n",
       "      <td>0.683108</td>\n",
       "      <td>0.011868</td>\n",
       "      <td>0.494926</td>\n",
       "      <td>0.250323</td>\n",
       "      <td>0.512605</td>\n",
       "      <td>0.541458</td>\n",
       "    </tr>\n",
       "    <tr>\n",
       "      <td>Row 3</td>\n",
       "      <td>0.677192</td>\n",
       "      <td>0.094281</td>\n",
       "      <td>0.451835</td>\n",
       "      <td>0.767879</td>\n",
       "      <td>0.902613</td>\n",
       "      <td>0.273354</td>\n",
       "    </tr>\n",
       "    <tr>\n",
       "      <td>Row 4</td>\n",
       "      <td>0.136213</td>\n",
       "      <td>0.594894</td>\n",
       "      <td>0.133821</td>\n",
       "      <td>0.558877</td>\n",
       "      <td>0.355686</td>\n",
       "      <td>0.160324</td>\n",
       "    </tr>\n",
       "    <tr>\n",
       "      <td>Row 5</td>\n",
       "      <td>0.060624</td>\n",
       "      <td>0.001447</td>\n",
       "      <td>0.420349</td>\n",
       "      <td>0.560100</td>\n",
       "      <td>0.844170</td>\n",
       "      <td>0.030965</td>\n",
       "    </tr>\n",
       "    <tr>\n",
       "      <td>Row 6</td>\n",
       "      <td>0.230078</td>\n",
       "      <td>0.769978</td>\n",
       "      <td>0.471582</td>\n",
       "      <td>0.034863</td>\n",
       "      <td>0.468798</td>\n",
       "      <td>0.757796</td>\n",
       "    </tr>\n",
       "  </tbody>\n",
       "</table>\n",
       "</div>"
      ],
      "text/plain": [
       "       Column 1  Column 2  Column 3  Column 4  Column 5  Column 6\n",
       "Row 1  0.046422  0.847703  0.059907  0.385508  0.719010  0.737680\n",
       "Row 2  0.683108  0.011868  0.494926  0.250323  0.512605  0.541458\n",
       "Row 3  0.677192  0.094281  0.451835  0.767879  0.902613  0.273354\n",
       "Row 4  0.136213  0.594894  0.133821  0.558877  0.355686  0.160324\n",
       "Row 5  0.060624  0.001447  0.420349  0.560100  0.844170  0.030965\n",
       "Row 6  0.230078  0.769978  0.471582  0.034863  0.468798  0.757796"
      ]
     },
     "execution_count": 6,
     "metadata": {},
     "output_type": "execute_result"
    }
   ],
   "source": [
    "df_obj = DataFrame(np.random.rand(36).reshape((6,6)),\n",
    "                    index = ['Row 1', 'Row 2', 'Row 3', 'Row 4', 'Row 5', 'Row 6'],\n",
    "                    columns = ['Column 1', 'Column 2', 'Column 3', 'Column 4', 'Column 5', 'Column 6']\n",
    "                  )\n",
    "df_obj"
   ]
  },
  {
   "cell_type": "code",
   "execution_count": 8,
   "metadata": {},
   "outputs": [
    {
     "data": {
      "text/html": [
       "<div>\n",
       "<style scoped>\n",
       "    .dataframe tbody tr th:only-of-type {\n",
       "        vertical-align: middle;\n",
       "    }\n",
       "\n",
       "    .dataframe tbody tr th {\n",
       "        vertical-align: top;\n",
       "    }\n",
       "\n",
       "    .dataframe thead th {\n",
       "        text-align: right;\n",
       "    }\n",
       "</style>\n",
       "<table border=\"1\" class=\"dataframe\">\n",
       "  <thead>\n",
       "    <tr style=\"text-align: right;\">\n",
       "      <th></th>\n",
       "      <th>Column 5</th>\n",
       "      <th>Column 2</th>\n",
       "    </tr>\n",
       "  </thead>\n",
       "  <tbody>\n",
       "    <tr>\n",
       "      <td>Row 2</td>\n",
       "      <td>0.512605</td>\n",
       "      <td>0.011868</td>\n",
       "    </tr>\n",
       "    <tr>\n",
       "      <td>Row 5</td>\n",
       "      <td>0.844170</td>\n",
       "      <td>0.001447</td>\n",
       "    </tr>\n",
       "  </tbody>\n",
       "</table>\n",
       "</div>"
      ],
      "text/plain": [
       "       Column 5  Column 2\n",
       "Row 2  0.512605  0.011868\n",
       "Row 5  0.844170  0.001447"
      ]
     },
     "execution_count": 8,
     "metadata": {},
     "output_type": "execute_result"
    }
   ],
   "source": [
    "df_obj.loc[['Row 2', 'Row 5'], ['Column 5', 'Column 2']]"
   ]
  },
  {
   "cell_type": "markdown",
   "metadata": {},
   "source": [
    "### Data Slicing\n",
    "\n",
    "We can use slicing to select and return a slice of several values from a data set. Slicing uses index values so we can use the same square brackets when doing data slicing.\n",
    "\n",
    "How slicing differs, however, is that with slicing you can pass in two index values that are seperated by a colon. the index value on the left side of the colon should be the first value you want to select. On the right side of the colon, we write the index value we want to retrieve. When you execute the code, the indexer then simply finds the first record and the last record and returns every record in between them."
   ]
  },
  {
   "cell_type": "code",
   "execution_count": 9,
   "metadata": {},
   "outputs": [
    {
     "data": {
      "text/plain": [
       "Row 3    2\n",
       "Row 4    3\n",
       "Row 5    4\n",
       "Row 6    5\n",
       "Row 7    6\n",
       "dtype: int32"
      ]
     },
     "execution_count": 9,
     "metadata": {},
     "output_type": "execute_result"
    }
   ],
   "source": [
    "series_obj['Row 3':'Row 7']"
   ]
  },
  {
   "cell_type": "markdown",
   "metadata": {},
   "source": [
    "### Comparing with Scalars\n",
    "\n",
    "Now we're going to talk about comparison operators and scalar values. Just we dont know that a scalar value is, it's basically just a single numerical value. You can use comparison operators like greater than or less than to return True/False values for all records to indicate how each element compares to a scalar value."
   ]
  },
  {
   "cell_type": "code",
   "execution_count": 10,
   "metadata": {},
   "outputs": [
    {
     "data": {
      "text/html": [
       "<div>\n",
       "<style scoped>\n",
       "    .dataframe tbody tr th:only-of-type {\n",
       "        vertical-align: middle;\n",
       "    }\n",
       "\n",
       "    .dataframe tbody tr th {\n",
       "        vertical-align: top;\n",
       "    }\n",
       "\n",
       "    .dataframe thead th {\n",
       "        text-align: right;\n",
       "    }\n",
       "</style>\n",
       "<table border=\"1\" class=\"dataframe\">\n",
       "  <thead>\n",
       "    <tr style=\"text-align: right;\">\n",
       "      <th></th>\n",
       "      <th>Column 1</th>\n",
       "      <th>Column 2</th>\n",
       "      <th>Column 3</th>\n",
       "      <th>Column 4</th>\n",
       "      <th>Column 5</th>\n",
       "      <th>Column 6</th>\n",
       "    </tr>\n",
       "  </thead>\n",
       "  <tbody>\n",
       "    <tr>\n",
       "      <td>Row 1</td>\n",
       "      <td>True</td>\n",
       "      <td>False</td>\n",
       "      <td>True</td>\n",
       "      <td>False</td>\n",
       "      <td>False</td>\n",
       "      <td>False</td>\n",
       "    </tr>\n",
       "    <tr>\n",
       "      <td>Row 2</td>\n",
       "      <td>False</td>\n",
       "      <td>True</td>\n",
       "      <td>False</td>\n",
       "      <td>False</td>\n",
       "      <td>False</td>\n",
       "      <td>False</td>\n",
       "    </tr>\n",
       "    <tr>\n",
       "      <td>Row 3</td>\n",
       "      <td>False</td>\n",
       "      <td>True</td>\n",
       "      <td>False</td>\n",
       "      <td>False</td>\n",
       "      <td>False</td>\n",
       "      <td>False</td>\n",
       "    </tr>\n",
       "    <tr>\n",
       "      <td>Row 4</td>\n",
       "      <td>True</td>\n",
       "      <td>False</td>\n",
       "      <td>True</td>\n",
       "      <td>False</td>\n",
       "      <td>False</td>\n",
       "      <td>True</td>\n",
       "    </tr>\n",
       "    <tr>\n",
       "      <td>Row 5</td>\n",
       "      <td>True</td>\n",
       "      <td>True</td>\n",
       "      <td>False</td>\n",
       "      <td>False</td>\n",
       "      <td>False</td>\n",
       "      <td>True</td>\n",
       "    </tr>\n",
       "    <tr>\n",
       "      <td>Row 6</td>\n",
       "      <td>False</td>\n",
       "      <td>False</td>\n",
       "      <td>False</td>\n",
       "      <td>True</td>\n",
       "      <td>False</td>\n",
       "      <td>False</td>\n",
       "    </tr>\n",
       "  </tbody>\n",
       "</table>\n",
       "</div>"
      ],
      "text/plain": [
       "       Column 1  Column 2  Column 3  Column 4  Column 5  Column 6\n",
       "Row 1      True     False      True     False     False     False\n",
       "Row 2     False      True     False     False     False     False\n",
       "Row 3     False      True     False     False     False     False\n",
       "Row 4      True     False      True     False     False      True\n",
       "Row 5      True      True     False     False     False      True\n",
       "Row 6     False     False     False      True     False     False"
      ]
     },
     "execution_count": 10,
     "metadata": {},
     "output_type": "execute_result"
    }
   ],
   "source": [
    "df_obj < 0.2"
   ]
  },
  {
   "cell_type": "markdown",
   "metadata": {},
   "source": [
    "### Filtering with Scalars"
   ]
  },
  {
   "cell_type": "code",
   "execution_count": 11,
   "metadata": {},
   "outputs": [
    {
     "data": {
      "text/plain": [
       "Row 8    7\n",
       "dtype: int32"
      ]
     },
     "execution_count": 11,
     "metadata": {},
     "output_type": "execute_result"
    }
   ],
   "source": [
    "series_obj[series_obj > 6]"
   ]
  },
  {
   "cell_type": "markdown",
   "metadata": {},
   "source": [
    "### Setting values with scalars"
   ]
  },
  {
   "cell_type": "code",
   "execution_count": 13,
   "metadata": {},
   "outputs": [
    {
     "data": {
      "text/plain": [
       "Row 1    8\n",
       "Row 2    1\n",
       "Row 3    2\n",
       "Row 4    3\n",
       "Row 5    8\n",
       "Row 6    5\n",
       "Row 7    6\n",
       "Row 8    8\n",
       "dtype: int32"
      ]
     },
     "execution_count": 13,
     "metadata": {},
     "output_type": "execute_result"
    }
   ],
   "source": [
    "series_obj['Row 1', 'Row 5', 'Row 8'] = 8\n",
    "series_obj"
   ]
  }
 ],
 "metadata": {
  "kernelspec": {
   "display_name": "Python 3",
   "language": "python",
   "name": "python3"
  },
  "language_info": {
   "codemirror_mode": {
    "name": "ipython",
    "version": 3
   },
   "file_extension": ".py",
   "mimetype": "text/x-python",
   "name": "python",
   "nbconvert_exporter": "python",
   "pygments_lexer": "ipython3",
   "version": "3.7.4"
  }
 },
 "nbformat": 4,
 "nbformat_minor": 2
}
